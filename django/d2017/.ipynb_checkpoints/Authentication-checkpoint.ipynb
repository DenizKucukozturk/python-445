{
 "cells": [
  {
   "cell_type": "markdown",
   "metadata": {},
   "source": [
    "# Authentication\n",
    "\n",
    "Django has an authentication system available under `django.contrib.auth` which includes\n",
    "\n",
    " * `User` model to store user authentication information. \n",
    "   `from django.contrib.auth.models import User`\n",
    " * Methods to authenticate, create session, destroy session for user\n",
    "   `from django.contrib.auth import authenticate, login, logout`\n",
    " * Passes user information in `HttpRequest` object in `user` field.\n",
    " * Model based permissions as `request.user.has_perms('appname.add_modelname')`\n",
    " * Decorators for typical authentication/authorization checks\n",
    "   `from django.contrib.auth.decorators import login_required,permission_required`\n",
    "   \n",
    "```python\n",
    "   @login_required\n",
    "   def index(request):\n",
    "     ....\n",
    "```\n",
    " * Default views for login/logout/password change and other routine tasks and their default forms. You need to include them in `urls.py`\n",
    "   `url(r'^accounts/', include('django.contrib.auth.urls')`\n",
    " \n",
    "## Authentication Use Case\n",
    "\n",
    "\n",
    "   "
   ]
  },
  {
   "cell_type": "code",
   "execution_count": 1,
   "metadata": {
    "hide_input": true
   },
   "outputs": [],
   "source": [
    "%load_ext diagmagic"
   ]
  },
  {
   "cell_type": "code",
   "execution_count": 2,
   "metadata": {
    "hide_input": true
   },
   "outputs": [
    {
     "name": "stderr",
     "output_type": "stream",
     "text": [
      "UsageError: Cell magic `%%seqdiag` not found.\n"
     ]
    }
   ],
   "source": [
    "%%seqdiag\n",
    "seqdiag {\n",
    "    span_height = 3;\n",
    "    browser -> Django [ label = \"GET /index.html\", note=\"no session\\ncookie\"];\n",
    "    Django -> View [ label = \"index(request)\"];\n",
    "    Django <-- View  [ label= \"redirect('/login')\" ];\n",
    "    browser <-- Django [label = \"307 Temporary Redirect\" ];\n",
    "    browser -> Django [label = \"GET /login\"];\n",
    "    Django -> View [ label = \"login(request)\", note=\"no post\\ndata\"];\n",
    "    Django <-- View [ label = \"login form\"];\n",
    "    browser <-- Django [ label = \"login form\"];\n",
    "     === \"Correct username/password\" ===\n",
    "    browser -> Django [ label = \"POST /login\" ];\n",
    "    Django -> View [ label = \"login(request)\", note=\"authenticate(user,password) succeeds\\ncall login()\"];\n",
    "    Django <-- View [ label = \"redirect('/index.html')\",note=\"set session cookie\"];\n",
    "    browser <-- Django [ label = \"307 Temporary Redirect\", note=\"Set-Cookie: session.\"];\n",
    "    browser -> Django [ label = \"GET /index.html\", note=\"with session\\ncookie\"];\n",
    "    Django -> View [ label = \"index(request)\", note=\"user set\\nfrom session\"];\n",
    "    Django <-- View [ label = 'page content'];\n",
    "    browser <-- Django [ label = 'page content']\n",
    "    === \"Wrong username/password\" ===\n",
    "    browser -> Django [ label = \"POST /login\" ];\n",
    "    Django -> View [ label = \"login(request)\", note=\"authenticate(username,password)\\nfails\"];\n",
    "    Django <-- View [ label = \"login form\"];\n",
    "    browser <- Django [ label = \"login form\"];\n",
    "}"
   ]
  },
  {
   "cell_type": "code",
   "execution_count": 6,
   "metadata": {},
   "outputs": [
    {
     "name": "stderr",
     "output_type": "stream",
     "text": [
      "UsageError: Line magic function `%` not found.\n"
     ]
    }
   ],
   "source": [
    "%"
   ]
  },
  {
   "cell_type": "markdown",
   "metadata": {},
   "source": [
    "Django authentication middleware and `@login_required` decorator implements first part of this scenario. Each request is checked against if session is set automatically by the authentication middleware and middleware sets `request.user` to a valid user or `AnonymousUser`. `request.user.is_authenticated` gives a boolean value. `@login_required` decorator checks this value and return redirect to a login view.\n",
    "\n",
    "Second step is to write a login view that will show login form initially, then when posted check authentication and create session. A typical login view:\n",
    "```python\n",
    "from django.contrib.auth import  authenticate,login,logout\n",
    "from django.contrib.auth.decorators import login_required\n",
    "from django.contrib.auth.forms import AuthenticationForm\n",
    "def login(request):\n",
    "    if 'username' in request.POST and 'password' in request.POST:\n",
    "        username = request.POST['username']\n",
    "        password = request.POST['password']\n",
    "        user = authenticate(request, username=username, password=password)\n",
    "        if user is not None:\n",
    "            login(request, user)   # this sets the session, \n",
    "            # Redirect to a success page.\n",
    "            ...\n",
    "        else:\n",
    "            # Return an 'invalid login' error message.\n",
    "            ...\n",
    "    else:    # first time, return the login page\n",
    "        return render('login.html', {'form': AuthenticationForm})\n",
    "```\n",
    "Logging out is simply:\n",
    "```python\n",
    "def logout_view(request):\n",
    "    logout(request)\n",
    "    # Redirect to a success page.\n",
    "```\n",
    "\n",
    "## Authentication form\n",
    "\n",
    "`django.contrib.auth.forms` include standard fonts like password authentication, password change, password reset etc. This forms implement HTML representation of forms and their validation. You can use them in a template (assume `form` contains such a form):\n",
    "\n",
    "```python\n",
    "<h1> Login Page </h1>\n",
    "You are not authenticated to access this page\n",
    "<form method=\"post\">\n",
    "{% csrf_token %}\n",
    "{{ form.as_p }}\n",
    "<input type=\"hidden\" name=\"next\" value=\"{{ next }}\" />\n",
    "<input type=\"submit\" name=\"submit\" value=\"Login\"/>\n",
    "</form>\n",
    "```\n",
    "`form.as_p()` and `form.as_table()` returns the HTML representations of the form.\n",
    "\n",
    "## Authentication views\n",
    "\n",
    "Adding the following include statement in project `urls.py` includes default views of authentication framework:\n",
    "```python\n",
    "url(r'^accounts/', include('django.contrib.auth.urls'))\n",
    "```\n",
    "`login, logout, password_change, password_reset` are defined in this include. They look for some templates, otherwise provide full authentication mechanism. `login` requires `registration/login.html` template. Remaining tasks are handled."
   ]
  },
  {
   "cell_type": "markdown",
   "metadata": {},
   "source": [
    "## Authentication and Models\n",
    "Most application have user dependency. For example each student updates only his/her student record. A online shopping application has users orders, shopping basket. A content management application has pages owned by different users. A webmail application does most of its job in the IMAP service however user preferences has to be kept in a database.\n",
    "\n",
    "In order to represent this dependency, data models should be related to the django  authentication. `django.contrib.auth.models` have `User, Group, Permission` models. Application models can refer this models to define dependencies. For example models:\n",
    "```python\n",
    "from django.db import models\n",
    "from django.contrib.auth.models import User\n",
    "\n",
    "class Preferences(models.Model):\n",
    "    # ...\n",
    "    user = models.OneToOneField(User)\n",
    "    #...\n",
    "\n",
    "class BasketEntry(models.Model):\n",
    "    item = models.ForeignKey(ShopItem)\n",
    "    count = models.PositiveIntegerField()\n",
    "    price = models.DecimalField(decimal_places=2)\n",
    "    user = models.ForeignKey(User)\n",
    "```\n",
    "Each `User` has a `Preferences`. `request.user.preferences` will give it. Each `User` has a list of `BasketEntry`. `request.user.basketentry_set.all()` will return them."
   ]
  },
  {
   "cell_type": "code",
   "execution_count": null,
   "metadata": {},
   "outputs": [],
   "source": []
  }
 ],
 "metadata": {
  "kernelspec": {
   "display_name": "Python 3",
   "language": "python",
   "name": "python3"
  },
  "language_info": {
   "codemirror_mode": {
    "name": "ipython",
    "version": 3
   },
   "file_extension": ".py",
   "mimetype": "text/x-python",
   "name": "python",
   "nbconvert_exporter": "python",
   "pygments_lexer": "ipython3",
   "version": "3.5.3"
  },
  "toc": {
   "nav_menu": {},
   "number_sections": true,
   "sideBar": true,
   "skip_h1_title": false,
   "toc_cell": false,
   "toc_position": {},
   "toc_section_display": "block",
   "toc_window_display": false
  }
 },
 "nbformat": 4,
 "nbformat_minor": 2
}
